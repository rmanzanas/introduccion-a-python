{
 "cells": [
  {
   "cell_type": "code",
   "execution_count": 8,
   "metadata": {},
   "outputs": [
    {
     "name": "stdout",
     "output_type": "stream",
     "text": [
      "l: [90, 30, 5, 62, 91, 78, 45, 20, 65, 50, 59, 4, 9, 20, 24, 70, 81, 32, 23, 40, 32, 75, 38, 93, 56, 22, 38, 63, 54, 69, 7, 29, 2, 89, 45, 54, 70, 17, 47, 92, 81, 30, 97, 93, 93, 30, 88, 10, 12, 78, 73, 42, 46, 77, 49, 34, 27, 96, 75, 69, 92, 51, 86, 76, 47, 90, 80, 28, 78, 77, 70, 47, 57, 77, 7, 91, 56, 10, 18, 74, 46, 54, 17, 4, 20, 92, 22, 19, 65, 71, 1, 66, 85, 20, 29, 16, 47, 48, 10, 69]\n",
      "\n",
      "m: [60, 52, 76, 34, 64, 84, 44, 18, 51, 81, 98, 13, 45, 60, 79, 91, 53, 9, 40, 67, 48, 24, 32, 67, 84, 65, 26, 42, 38, 34, 59, 23, 50, 63, 66, 20, 56, 14, 64, 70, 16, 18, 99, 11, 42, 8, 28, 14, 53, 21, 38, 78, 17, 63, 85, 6, 72, 78, 43, 97, 24, 72, 99, 69, 64, 31, 20, 40, 9, 2, 85, 34, 70, 75, 82, 51, 44, 11, 1, 5, 98, 72, 36, 36, 80, 93, 74, 13, 50, 64, 25, 87, 77, 77, 38, 42, 8, 32, 83, 85]\n",
      "\n",
      "diff: [4, 7, 10, 12, 19, 22, 27, 29, 30, 46, 47, 49, 54, 57, 62, 71, 73, 86, 88, 89, 90, 92, 96]\n"
     ]
    }
   ],
   "source": [
    "# Escribir el codigo necesario para generar una lista que contenga\n",
    "# los elementos de l que no están en m\n",
    "\n",
    "import random\n",
    "\n",
    "l = [int(100*random.random()) for i in range(100)]\n",
    "m = [int(100*random.random()) for i in range(100)]\n",
    "\n",
    "print(\"l:\", l)\n",
    "print()\n",
    "print(\"m:\", m)\n",
    "\n",
    "# Escribe aquí el código\n",
    "diff = list(set(l) - set(m))\n",
    "print()\n",
    "print(\"diff:\", diff)\n",
    "\n",
    "\n",
    "\n"
   ]
  },
  {
   "cell_type": "code",
   "execution_count": null,
   "metadata": {},
   "outputs": [],
   "source": [
    "# Escribir el código necesario para calcular la sucesión de Fibonacci\n",
    "# para los \"n\" primeros términos, utilizando el esqueleto siguiente\n",
    "\n",
    "n = 20\n",
    "\n",
    "fib = [0, 1]  # Los dos primeros valores de la sucesión.\n",
    "\n",
    "# Escribe aquí el código\n",
    "\n",
    "\n",
    "\n"
   ]
  },
  {
   "cell_type": "code",
   "execution_count": 26,
   "metadata": {},
   "outputs": [
    {
     "name": "stdout",
     "output_type": "stream",
     "text": [
      "I will cheer for you! Enter a word: hola\n",
      "Enthusiasm level (1-10): 2\n",
      "Give me an h! h\n",
      "Give me an o! o\n",
      "Give me an l! l\n",
      "Give me an a! a\n",
      "What does that spell?\n",
      "hola !!!\n",
      "hola !!!\n"
     ]
    }
   ],
   "source": [
    "# El siguiente código hace uso de un bucle while, cuando\n",
    "# no es necesario. Escribir el código utilizando un bucle for\n",
    "\n",
    "an_letters = \"aefhilmnorsxAEFHILMNORSX\"\n",
    "word = input(\"I will cheer for you! Enter a word: \")  # Input nos pide que introduzcamos un valor por consola\n",
    "times = int(input(\"Enthusiasm level (1-10): \"))  # El valor es siempre un string, pero necesitamos un entero,\n",
    "                                                 # \"int()\" lo convierte a entero\n",
    "len(word)\n",
    "    \n",
    "i = 0\n",
    "# while i < len(word):\n",
    "for char in word:\n",
    "    # char = word[i]\n",
    "    if char in an_letters:\n",
    "        print(\"Give me an \" + char + \"! \" + char)\n",
    "    else:\n",
    "        print(\"Give me a  \" + char + \"! \" + char)\n",
    "    # i += 1\n",
    "print(\"What does that spell?\")\n",
    "for i in range(times):\n",
    "    print(word, \"!!!\")\n",
    "        \n",
    "  "
   ]
  },
  {
   "cell_type": "code",
   "execution_count": 66,
   "metadata": {},
   "outputs": [
    {
     "name": "stdout",
     "output_type": "stream",
     "text": [
      "l: [1, 2, 3, 4, 5]\n",
      "m: [5, 4, 3, 2, 1]\n",
      "<list_reverseiterator object at 0x7f0290f9a278>\n"
     ]
    }
   ],
   "source": [
    "# El siguiente código debería crear una lista \"m\"\n",
    "# que contiene los elemenos de \"l\" en orden inverso,\n",
    "# pero contiene errores.\n",
    "\n",
    "l = [1, 2, 3, 4, 5]\n",
    "m = l.copy()\n",
    "m.reverse()\n",
    "print(\"l:\", l)\n",
    "print(\"m:\", m)"
   ]
  },
  {
   "cell_type": "code",
   "execution_count": null,
   "metadata": {},
   "outputs": [],
   "source": [
    "# El siguiente código debería obtener los números primos que\n",
    "# existan hasta \"n\", incluyendo \"n\", pero contiene errores.\n",
    "\n",
    "n = 30\n",
    "\n",
    "# Inicializo la lista de numeros primos\n",
    "primos = [2]\n",
    "\n",
    "# Itero sobre los numeros\n",
    "if i == 2:\n",
    "    primos.append(2)    \n",
    "for i in range(len(primes)):\n",
    "    # go through each of 2...n\n",
    "    for j in range(len(n)):\n",
    "        # check if not divisible by elem of list\n",
    "        if i % j != 0:\n",
    "            primos.append(i)"
   ]
  },
  {
   "cell_type": "code",
   "execution_count": null,
   "metadata": {},
   "outputs": [],
   "source": []
  }
 ],
 "metadata": {
  "kernelspec": {
   "display_name": "Python 3",
   "language": "python",
   "name": "python3"
  },
  "language_info": {
   "codemirror_mode": {
    "name": "ipython",
    "version": 3
   },
   "file_extension": ".py",
   "mimetype": "text/x-python",
   "name": "python",
   "nbconvert_exporter": "python",
   "pygments_lexer": "ipython3",
   "version": "3.6.5"
  }
 },
 "nbformat": 4,
 "nbformat_minor": 2
}
